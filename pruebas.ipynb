{
 "cells": [
  {
   "cell_type": "code",
   "execution_count": 40,
   "metadata": {},
   "outputs": [
    {
     "name": "stdout",
     "output_type": "stream",
     "text": [
      "Conexión cerrada correctamente.\n"
     ]
    },
    {
     "data": {
      "text/html": [
       "<div>\n",
       "<style scoped>\n",
       "    .dataframe tbody tr th:only-of-type {\n",
       "        vertical-align: middle;\n",
       "    }\n",
       "\n",
       "    .dataframe tbody tr th {\n",
       "        vertical-align: top;\n",
       "    }\n",
       "\n",
       "    .dataframe thead th {\n",
       "        text-align: right;\n",
       "    }\n",
       "</style>\n",
       "<table border=\"1\" class=\"dataframe\">\n",
       "  <thead>\n",
       "    <tr style=\"text-align: right;\">\n",
       "      <th></th>\n",
       "      <th>producto</th>\n",
       "      <th>fecha</th>\n",
       "      <th>Coto</th>\n",
       "      <th>Carrefour</th>\n",
       "      <th>Día</th>\n",
       "    </tr>\n",
       "  </thead>\n",
       "  <tbody>\n",
       "    <tr>\n",
       "      <th>0</th>\n",
       "      <td>Azúcar Ledesma 1kg</td>\n",
       "      <td>2024-04-05</td>\n",
       "      <td>1399.0</td>\n",
       "      <td>1400.0</td>\n",
       "      <td>1395.0</td>\n",
       "    </tr>\n",
       "    <tr>\n",
       "      <th>1</th>\n",
       "      <td>Harina Morixe 0000 1kg</td>\n",
       "      <td>2024-04-05</td>\n",
       "      <td>870.0</td>\n",
       "      <td>Precio no encontrado</td>\n",
       "      <td>870.0</td>\n",
       "    </tr>\n",
       "    <tr>\n",
       "      <th>2</th>\n",
       "      <td>Harina Leudante Pureza 1 Kg</td>\n",
       "      <td>2024-04-05</td>\n",
       "      <td>1118.0</td>\n",
       "      <td>1120.0</td>\n",
       "      <td>1170.0</td>\n",
       "    </tr>\n",
       "    <tr>\n",
       "      <th>3</th>\n",
       "      <td>Arroz Integral Molinos Ala 500 Gr</td>\n",
       "      <td>2024-04-05</td>\n",
       "      <td>1519.0</td>\n",
       "      <td>1510.0</td>\n",
       "      <td>1510.0</td>\n",
       "    </tr>\n",
       "    <tr>\n",
       "      <th>4</th>\n",
       "      <td>Yerba Mate Playadito Suave 1 Kg</td>\n",
       "      <td>2024-04-05</td>\n",
       "      <td>4865.0</td>\n",
       "      <td>4105.0</td>\n",
       "      <td>3650.0</td>\n",
       "    </tr>\n",
       "  </tbody>\n",
       "</table>\n",
       "</div>"
      ],
      "text/plain": [
       "                            producto       fecha    Coto  \\\n",
       "0                 Azúcar Ledesma 1kg  2024-04-05  1399.0   \n",
       "1             Harina Morixe 0000 1kg  2024-04-05   870.0   \n",
       "2        Harina Leudante Pureza 1 Kg  2024-04-05  1118.0   \n",
       "3  Arroz Integral Molinos Ala 500 Gr  2024-04-05  1519.0   \n",
       "4    Yerba Mate Playadito Suave 1 Kg  2024-04-05  4865.0   \n",
       "\n",
       "              Carrefour     Día  \n",
       "0                1400.0  1395.0  \n",
       "1  Precio no encontrado   870.0  \n",
       "2                1120.0  1170.0  \n",
       "3                1510.0  1510.0  \n",
       "4                4105.0  3650.0  "
      ]
     },
     "execution_count": 40,
     "metadata": {},
     "output_type": "execute_result"
    }
   ],
   "source": [
    "import web_scrapping\n",
    "import db\n",
    "import pandas as pd\n",
    "from datetime import datetime\n",
    "\n",
    "data = []\n",
    "fecha_actual = datetime.now().strftime(\"%Y-%m-%d\")\n",
    "\n",
    "# Extraemos los productos y sus enlaces a la web de cada supermercado, y creamos un diccionario.     \n",
    "consulta = \"SELECT nombre_producto, link_coto, link_carrefour, link_dia FROM productos\"\n",
    "resultado = db.ejecutar_consulta(consulta)\n",
    "productos = {}\n",
    "for row in resultado:\n",
    "    nombre_producto = row[0]\n",
    "    enlaces = {\n",
    "        \"Coto\": row[1],\n",
    "        \"Carrefour\": row[2],\n",
    "        \"Día\": row[3]\n",
    "    }\n",
    "    productos[nombre_producto] = enlaces\n",
    "\n",
    "for producto, urls in productos.items():\n",
    "    precios = {\"producto\": producto, \"fecha\": fecha_actual}\n",
    "    for supermercado, url in urls.items():\n",
    "        precio = None  # Inicializamos precio con el valor \"null\"\n",
    "        try:\n",
    "            if supermercado == \"Coto\":\n",
    "                precio = web_scrapping.extraer_precio_coto(url)\n",
    "            elif supermercado == \"Carrefour\":\n",
    "                precio = web_scrapping.extraer_precio_carrefour(url)\n",
    "            elif supermercado == \"Día\":\n",
    "                precio = web_scrapping.extraer_precio_dia(url)\n",
    "        except Exception as e:\n",
    "            print(f\"Error al extraer el precio del producto {producto} en {supermercado}: {e}\")\n",
    "        precios[supermercado] = precio if precio is not None else None\n",
    "    data.append(precios)\n",
    "\n",
    "df = pd.DataFrame(data)     # Convertimos a dataframe.\n",
    "df.head()"
   ]
  },
  {
   "cell_type": "code",
   "execution_count": 4,
   "metadata": {},
   "outputs": [
    {
     "name": "stdout",
     "output_type": "stream",
     "text": [
      "Conexión cerrada correctamente.\n"
     ]
    },
    {
     "data": {
      "text/html": [
       "<div>\n",
       "<style scoped>\n",
       "    .dataframe tbody tr th:only-of-type {\n",
       "        vertical-align: middle;\n",
       "    }\n",
       "\n",
       "    .dataframe tbody tr th {\n",
       "        vertical-align: top;\n",
       "    }\n",
       "\n",
       "    .dataframe thead th {\n",
       "        text-align: right;\n",
       "    }\n",
       "</style>\n",
       "<table border=\"1\" class=\"dataframe\">\n",
       "  <thead>\n",
       "    <tr style=\"text-align: right;\">\n",
       "      <th></th>\n",
       "      <th>producto</th>\n",
       "      <th>fecha</th>\n",
       "      <th>Coto</th>\n",
       "      <th>Carrefour</th>\n",
       "      <th>Día</th>\n",
       "    </tr>\n",
       "  </thead>\n",
       "  <tbody>\n",
       "    <tr>\n",
       "      <th>0</th>\n",
       "      <td>Aceite de Girasol Natura 1,5 Lts</td>\n",
       "      <td>2024-04-06</td>\n",
       "      <td>2808.00</td>\n",
       "      <td>2805.00</td>\n",
       "      <td>2805.00</td>\n",
       "    </tr>\n",
       "    <tr>\n",
       "      <th>1</th>\n",
       "      <td>Arroz Integral Molinos Ala 500 Gr</td>\n",
       "      <td>2024-04-06</td>\n",
       "      <td>1519.00</td>\n",
       "      <td>1350.00</td>\n",
       "      <td>1510.00</td>\n",
       "    </tr>\n",
       "    <tr>\n",
       "      <th>2</th>\n",
       "      <td>Azúcar Ledesma 1kg</td>\n",
       "      <td>2024-04-06</td>\n",
       "      <td>1399.00</td>\n",
       "      <td>1400.00</td>\n",
       "      <td>1395.00</td>\n",
       "    </tr>\n",
       "    <tr>\n",
       "      <th>3</th>\n",
       "      <td>Harina Blanca Flor</td>\n",
       "      <td>2024-04-06</td>\n",
       "      <td>809.00</td>\n",
       "      <td>609.00</td>\n",
       "      <td>709.00</td>\n",
       "    </tr>\n",
       "    <tr>\n",
       "      <th>4</th>\n",
       "      <td>Harina Leudante Pureza 1 Kg</td>\n",
       "      <td>2024-04-06</td>\n",
       "      <td>1118.00</td>\n",
       "      <td>1120.00</td>\n",
       "      <td>1170.00</td>\n",
       "    </tr>\n",
       "    <tr>\n",
       "      <th>5</th>\n",
       "      <td>Harina Morixe 0000 1kg</td>\n",
       "      <td>2024-04-06</td>\n",
       "      <td>870.00</td>\n",
       "      <td>609.00</td>\n",
       "      <td>870.00</td>\n",
       "    </tr>\n",
       "    <tr>\n",
       "      <th>6</th>\n",
       "      <td>Polenta Blanca Flor</td>\n",
       "      <td>2024-04-06</td>\n",
       "      <td>809.00</td>\n",
       "      <td>None</td>\n",
       "      <td>709.00</td>\n",
       "    </tr>\n",
       "    <tr>\n",
       "      <th>7</th>\n",
       "      <td>Yerba Mate Playadito Suave 1 Kg</td>\n",
       "      <td>2024-04-06</td>\n",
       "      <td>4865.00</td>\n",
       "      <td>4105.00</td>\n",
       "      <td>3650.00</td>\n",
       "    </tr>\n",
       "  </tbody>\n",
       "</table>\n",
       "</div>"
      ],
      "text/plain": [
       "                            producto       fecha     Coto Carrefour      Día\n",
       "0   Aceite de Girasol Natura 1,5 Lts  2024-04-06  2808.00   2805.00  2805.00\n",
       "1  Arroz Integral Molinos Ala 500 Gr  2024-04-06  1519.00   1350.00  1510.00\n",
       "2                 Azúcar Ledesma 1kg  2024-04-06  1399.00   1400.00  1395.00\n",
       "3                 Harina Blanca Flor  2024-04-06   809.00    609.00   709.00\n",
       "4        Harina Leudante Pureza 1 Kg  2024-04-06  1118.00   1120.00  1170.00\n",
       "5             Harina Morixe 0000 1kg  2024-04-06   870.00    609.00   870.00\n",
       "6                Polenta Blanca Flor  2024-04-06   809.00      None   709.00\n",
       "7    Yerba Mate Playadito Suave 1 Kg  2024-04-06  4865.00   4105.00  3650.00"
      ]
     },
     "execution_count": 4,
     "metadata": {},
     "output_type": "execute_result"
    }
   ],
   "source": [
    "import db\n",
    "import pandas as pd\n",
    "\n",
    "try:\n",
    "    consulta = '''SELECT DISTINCT ON (producto) producto, fecha, precio_coto, precio_carrefour, precio_dia\n",
    "                  FROM precios_productos\n",
    "                  ORDER BY producto, fecha DESC;'''\n",
    "    precios = db.ejecutar_consulta(consulta)\n",
    "    df_precios = pd.DataFrame(precios)\n",
    "    # Supongamos que quieres cambiar los nombres de las columnas 'precio_coto', 'precio_carrefour' y 'precio_dia' a minúsculas\n",
    "    nuevos_nombres = {'precio_coto': 'Coto', 'precio_carrefour': 'Carrefour', 'precio_dia': 'Día'}\n",
    "    # Utiliza el método rename() para cambiar los nombres de las columnas\n",
    "    df_precios = df_precios.rename(columns=nuevos_nombres)\n",
    "    df_precios = df_precios(index_)\n",
    "except Exception as e:\n",
    "    print(\"Error al consultar los precios de los productos:\", e)\n",
    "\n",
    "df_precios"
   ]
  },
  {
   "cell_type": "code",
   "execution_count": 4,
   "metadata": {},
   "outputs": [],
   "source": [
    "import requests\n",
    "from bs4 import BeautifulSoup\n",
    "import web_scrapping\n",
    "\n",
    "def extraer_precio_coto(url):\n",
    "    # Función para extraer el precio del producto desde la página web de Coto\n",
    "    headers = {'User-Agent': 'Mozilla/5.0'}     # Se establece el User-Agent para evitar bloqueos por parte del servidor\n",
    "    response = requests.get(url, headers=headers)       # Se realiza una solicitud GET a la URL proporcionada\n",
    "    if response.status_code == 200:     # Se verifica si la solicitud fue exitosa (código de estado 200)\n",
    "        soup = BeautifulSoup(response.text, 'html.parser')      # Se crea un objeto BeautifulSoup para analizar el contenido HTML de la página web\n",
    "        precio_element = soup.find('span', class_='atg_store_newPrice')     # Se busca el elemento que contiene el precio del producto\n",
    "        if precio_element:      # Si se encuentra el elemento del precio en la primera etiqueta\n",
    "            return web_scrapping.limpiar_precio(precio_element.text.strip())\n",
    "        else:       # Si no se encuentra el precio en la primera etiqueta, intentar encontrarlo en la segunda\n",
    "            precio_descuento_element = soup.find('span', class_='price_discount')\n",
    "            if precio_descuento_element:        # Si se encuentra el precio en la segunda etiqueta\n",
    "                return web_scrapping.limpiar_precio(precio_descuento_element.text.strip())\n",
    "            else:\n",
    "                return None     # Si no se encuentra el elemento del precio en ninguna etiqueta, se devuelve None\n",
    "    else:\n",
    "        return \"Error al acceder a la página\"       # Si la solicitud no fue exitosa, se devuelve un mensaje de error"
   ]
  },
  {
   "cell_type": "code",
   "execution_count": 23,
   "metadata": {},
   "outputs": [],
   "source": [
    "def limpiar_precio_desc_coto(precio_str):\n",
    "    # Eliminar caracteres no numéricos y convertir el precio a formato decimal\n",
    "    precio_str = precio_str.replace('$', '').replace(',', '')\n",
    "    precio_float = float(precio_str)\n",
    "    \n",
    "    # Ajustar el formato decimal a dos decimales\n",
    "    precio_decimal = round(precio_float, 2)\n",
    "    \n",
    "    return precio_decimal\n"
   ]
  },
  {
   "cell_type": "code",
   "execution_count": 25,
   "metadata": {},
   "outputs": [],
   "source": [
    "import requests\n",
    "from bs4 import BeautifulSoup\n",
    "import web_scrapping\n",
    "\n",
    "def extraer_precio_coto(url):\n",
    "    headers = {'User-Agent': 'Mozilla/5.0'}  \n",
    "    response = requests.get(url, headers=headers)  \n",
    "    if response.status_code == 200:  \n",
    "        soup = BeautifulSoup(response.text, 'html.parser')  \n",
    "        \n",
    "        # Buscar precio en las etiquetas de descuento\n",
    "        precio_descuento_element = soup.find('span', class_='price_discount')\n",
    "        if precio_descuento_element:\n",
    "            return limpiar_precio_desc_coto(precio_descuento_element.text.strip())\n",
    "        \n",
    "        precio_descuento_gde_element = soup.find('span', class_='price_discount_gde')\n",
    "        if precio_descuento_gde_element:\n",
    "            return limpiar_precio_desc_coto(precio_descuento_gde_element.text.strip())\n",
    "        \n",
    "        # Extraer precio de 'atg_store_newprice'\n",
    "        atg_store_newprice = soup.find('span', class_='atg_store_newPrice')\n",
    "        if atg_store_newprice:\n",
    "            return web_scrapping.limpiar_precio(atg_store_newprice.text.strip())\n",
    "                \n",
    "    else:  \n",
    "        return \"Error al acceder a la página\"\n",
    "\n"
   ]
  },
  {
   "cell_type": "code",
   "execution_count": 26,
   "metadata": {},
   "outputs": [
    {
     "data": {
      "text/plain": [
       "1142.04"
      ]
     },
     "execution_count": 26,
     "metadata": {},
     "output_type": "execute_result"
    }
   ],
   "source": [
    "precio_coto = extraer_precio_coto('https://www.cotodigital3.com.ar/sitios/cdigi/producto/-galletitas-oreo-rellenas-con-crema-sabor-original-1825g-menos-sodio/_/A-00507347-00507347-200')\n",
    "precio_coto"
   ]
  },
  {
   "cell_type": "code",
   "execution_count": 27,
   "metadata": {},
   "outputs": [
    {
     "data": {
      "text/plain": [
       "698.09"
      ]
     },
     "execution_count": 27,
     "metadata": {},
     "output_type": "execute_result"
    }
   ],
   "source": [
    "precio_coto = extraer_precio_coto('https://www.cotodigital3.com.ar/sitios/cdigi/producto/-galletitas-oreo-rellenas-con-crema-sabor-original-118g-menos-sodio/_/A-00532297-00532297-200')\n",
    "precio_coto"
   ]
  },
  {
   "cell_type": "code",
   "execution_count": 28,
   "metadata": {},
   "outputs": [
    {
     "data": {
      "text/plain": [
       "1799.0"
      ]
     },
     "execution_count": 28,
     "metadata": {},
     "output_type": "execute_result"
    }
   ],
   "source": [
    "precio_leche = extraer_precio_coto('https://www.cotodigital3.com.ar/sitios/cdigi/producto/-leche-e-polvo-desc-fortc-v-la-serenisi-paq-200-grm/_/A-00510583-00510583-200')\n",
    "precio_leche"
   ]
  }
 ],
 "metadata": {
  "kernelspec": {
   "display_name": "Python 3",
   "language": "python",
   "name": "python3"
  },
  "language_info": {
   "codemirror_mode": {
    "name": "ipython",
    "version": 3
   },
   "file_extension": ".py",
   "mimetype": "text/x-python",
   "name": "python",
   "nbconvert_exporter": "python",
   "pygments_lexer": "ipython3",
   "version": "3.10.12"
  }
 },
 "nbformat": 4,
 "nbformat_minor": 2
}
